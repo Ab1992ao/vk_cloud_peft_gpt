{
 "cells": [
  {
   "cell_type": "code",
   "execution_count": null,
   "metadata": {
    "colab": {
     "base_uri": "https://localhost:8080/"
    },
    "id": "YcGelOO_ZakJ",
    "outputId": "eba89a97-4047-4304-c68a-350090042e46"
   },
   "outputs": [],
   "source": [
    "!pip install -q bitsandbytes datasets accelerate loralib\n",
    "!pip install -q git+https://github.com/huggingface/transformers.git@main git+https://github.com/huggingface/peft.git"
   ]
  },
  {
   "cell_type": "code",
   "execution_count": null,
   "metadata": {
    "colab": {
     "base_uri": "https://localhost:8080/",
     "height": 607,
     "referenced_widgets": [
      "79031fe71f2e46be941eab0eff7008ee",
      "7372b13c2c164bf18b7979ae90523e32",
      "49bf17edccab40a5877506dd77a994cf",
      "bd58de278e5049a2b22ba5e7b37317e0",
      "412b5873315d4d6c89d14b97a0899dad",
      "738072c988df400180473448d673d445",
      "ecd7ec3f587d4360847e537665c42e0e",
      "afd8b22b448248d9abebb0c4bc16c347",
      "25b3689c72f6439e8d9c9745dd545f07",
      "61f09e28ffe147acbf3a5f0621f2e78e",
      "96ba64d30d8a40afb389e1f2aafee7d9"
     ]
    },
    "id": "jQD1knsJZdpK",
    "outputId": "6ea09037-45d9-4065-c38e-55b37c7e11d1",
    "tags": []
   },
   "outputs": [],
   "source": [
    "import os\n",
    "os.environ[\"CUDA_VISIBLE_DEVICES\"]=\"0\"\n",
    "import torch\n",
    "import torch.nn as nn\n",
    "import bitsandbytes as bnb\n",
    "from transformers import AutoTokenizer, AutoConfig, AutoModelForCausalLM\n",
    "\n",
    "#Локальный путь. Используем, если скачали модель локально ранее\n",
    "#base_model = \"models/download/pythia-12b-deduped\"\n",
    "\n",
    "#Скачиваем базовую модель с Hugging Face \n",
    "base_model = \"EleutherAI/pythia-12b-deduped\"\n",
    "\n",
    "#Локальный путь к peft модели. \n",
    "#Поменяйте на свой путь, указанный при сохранении модели по итогам работы тетрадки 01_peft_finetune\n",
    "peft_model = \"models/trained/peft/\"\n",
    "\n",
    "model = AutoModelForCausalLM.from_pretrained(\n",
    "    base_model,\n",
    "    load_in_8bit=True, \n",
    "    device_map='auto'\n",
    ")\n",
    "\n",
    "tokenizer = AutoTokenizer.from_pretrained(peft_model)"
   ]
  },
  {
   "cell_type": "code",
   "execution_count": null,
   "metadata": {
    "id": "i5iUQdQkZxLG",
    "tags": []
   },
   "outputs": [],
   "source": [
    "#Загружаем PEFT модель\n",
    "from peft import PeftModel\n",
    "\n",
    "model = PeftModel.from_pretrained(model, peft_model)"
   ]
  },
  {
   "cell_type": "code",
   "execution_count": null,
   "metadata": {
    "colab": {
     "base_uri": "https://localhost:8080/"
    },
    "id": "PGj_KyIxacTm",
    "outputId": "9a1abf41-3ce7-40a0-8e3c-966a5a1ddb34",
    "tags": []
   },
   "outputs": [],
   "source": [
    "from transformers import GenerationConfig\n",
    "\n",
    "def generate_prompt(instruction):\n",
    "    return f\"\"\"Вопрос: {instruction} Ответ: \"\"\"\n",
    "\n",
    "#Можно тюнить параметры. Влияет на качество ответов\n",
    "def evaluate(\n",
    "        instruction,\n",
    "        temperature=0.8,\n",
    "        top_p=0.75,\n",
    "        top_k=40,\n",
    "        num_beams=3,\n",
    "        **kwargs,\n",
    "):\n",
    "    prompt = generate_prompt(instruction)\n",
    "    inputs = tokenizer(prompt, return_tensors=\"pt\")\n",
    "    input_ids = inputs[\"input_ids\"].cuda()\n",
    "    generation_config = GenerationConfig(\n",
    "        temperature=temperature,\n",
    "        top_p=top_p,\n",
    "        top_k=top_k,\n",
    "        num_beams=num_beams,\n",
    "        no_repeat_ngram_size=7,\n",
    "        **kwargs,\n",
    "    )\n",
    "    with torch.no_grad():\n",
    "        generation_output = model.generate(\n",
    "            input_ids=input_ids,\n",
    "            generation_config=generation_config,\n",
    "            return_dict_in_generate=True,\n",
    "            output_scores=True,\n",
    "            max_new_tokens=512,\n",
    "            \n",
    "        )\n",
    "    s = generation_output.sequences[0]\n",
    "    output = tokenizer.decode(s)\n",
    "    return output\n",
    "\n",
    "prompt = \"Что такое VK Cloud?\"\n",
    "output = evaluate(prompt)\n",
    "print(output.strip())"
   ]
  },
  {
   "cell_type": "code",
   "execution_count": null,
   "metadata": {
    "tags": []
   },
   "outputs": [],
   "source": [
    "#Меняем текст вопроса в prompt на свой\n",
    "prompt = \"Какие сервисы предоставляет VK Cloud?\"\n",
    "output = evaluate(prompt)\n",
    "print(output.strip())"
   ]
  },
  {
   "cell_type": "code",
   "execution_count": null,
   "metadata": {
    "colab": {
     "base_uri": "https://localhost:8080/"
    },
    "id": "QL1aSkYubwas",
    "outputId": "786a344d-4003-430a-a865-6b1fbabbc8ff",
    "tags": []
   },
   "outputs": [],
   "source": [
    "#Далее демонстрация работы модели в различных задачах\n",
    "#Ответы на вопросы, краткое изложение текстов, ответы с учетом контекста\n",
    "prompt = \"Что такое Kubernetes?\"\n",
    "output = evaluate(prompt)\n",
    "print(output)"
   ]
  },
  {
   "cell_type": "code",
   "execution_count": null,
   "metadata": {
    "tags": []
   },
   "outputs": [],
   "source": [
    "prompt = \"Расскажи подробно про Kubernetes?\"\n",
    "output = evaluate(prompt)\n",
    "print(output)"
   ]
  },
  {
   "cell_type": "code",
   "execution_count": null,
   "metadata": {
    "tags": []
   },
   "outputs": [],
   "source": [
    "prompt = \"Как получить список подов в Kubernetes?\"\n",
    "output = evaluate(prompt)\n",
    "print(output)"
   ]
  },
  {
   "cell_type": "code",
   "execution_count": null,
   "metadata": {
    "tags": []
   },
   "outputs": [],
   "source": [
    "prompt = \"Что такое etcd в Kubernetes?\"\n",
    "output = evaluate(prompt)\n",
    "print(output)"
   ]
  },
  {
   "cell_type": "code",
   "execution_count": null,
   "metadata": {
    "tags": []
   },
   "outputs": [],
   "source": [
    "prompt = \"Расскажи подробно про эту команду kubectl get pods\"\n",
    "output = evaluate(prompt)\n",
    "print(output)"
   ]
  },
  {
   "cell_type": "code",
   "execution_count": null,
   "metadata": {
    "colab": {
     "base_uri": "https://localhost:8080/"
    },
    "id": "EYUeFm26b2Nb",
    "outputId": "22889445-7b62-465d-c1e9-f64dccc6f874",
    "tags": []
   },
   "outputs": [],
   "source": [
    "prompt = \"Как создать файл в Linux?\"\n",
    "output = evaluate(prompt)\n",
    "print(output)"
   ]
  },
  {
   "cell_type": "code",
   "execution_count": null,
   "metadata": {
    "colab": {
     "base_uri": "https://localhost:8080/"
    },
    "id": "UUm5fl0Kb5AJ",
    "outputId": "03b7e100-8b81-483f-906d-d37920c01a5d",
    "tags": []
   },
   "outputs": [],
   "source": [
    "prompt = \"Как удалить файл в Linux?\"\n",
    "output = evaluate(prompt)\n",
    "print(output)"
   ]
  },
  {
   "cell_type": "code",
   "execution_count": null,
   "metadata": {
    "colab": {
     "base_uri": "https://localhost:8080/"
    },
    "id": "T27kkcD3b8Sd",
    "outputId": "06aba0f5-f327-4039-8001-5a1cb94d31a2",
    "tags": []
   },
   "outputs": [],
   "source": [
    "prompt = \"Что такое ssh?\"\n",
    "output = evaluate(prompt)\n",
    "print(output)"
   ]
  },
  {
   "cell_type": "code",
   "execution_count": null,
   "metadata": {
    "colab": {
     "base_uri": "https://localhost:8080/"
    },
    "id": "l2GBcnpKewar",
    "outputId": "3f141567-4985-4c74-b35d-b236edd99071",
    "tags": []
   },
   "outputs": [],
   "source": [
    "prompt = \"Напиши функцию на python для определения четное число или нет?\"\n",
    "output = evaluate(prompt)\n",
    "print(output)"
   ]
  },
  {
   "cell_type": "code",
   "execution_count": null,
   "metadata": {
    "tags": []
   },
   "outputs": [],
   "source": [
    "prompt = \"Напиши функцию на python для подсчета числа символов в слове?\"\n",
    "output = evaluate(prompt)\n",
    "print(output)"
   ]
  },
  {
   "cell_type": "code",
   "execution_count": null,
   "metadata": {
    "tags": []
   },
   "outputs": [],
   "source": [
    "prompt = \"Напиши программу Калькулятор на python, которая принимает два числа и операцию (+, -, *, /) от пользователя, а затем выполняет операцию и выводит результат\"\n",
    "output = evaluate(prompt)\n",
    "print(output)"
   ]
  },
  {
   "cell_type": "code",
   "execution_count": null,
   "metadata": {
    "tags": []
   },
   "outputs": [],
   "source": [
    "prompt = \"Напиши функцию на python, которая выводит числа Фибоначчи?\"\n",
    "output = evaluate(prompt)\n",
    "print(output)"
   ]
  },
  {
   "cell_type": "code",
   "execution_count": null,
   "metadata": {
    "tags": []
   },
   "outputs": [],
   "source": [
    "prompt = \"\"\"Изложи кратко этот текст, используй данные только из этого текста: Алекса́ндр Серге́евич Пу́шкин — русский поэт, драматург и прозаик, заложивший основы русского реалистического направления, литературный критик и теоретик литературы, историк, публицист, журналист. Один из самых авторитетных литературных деятелей первой трети XIX века. Википедия\n",
    "Дата и место рождения: 6 июня 1799 г., Москва, Россия\"\"\"\n",
    "output = evaluate(prompt)\n",
    "print(output)"
   ]
  },
  {
   "cell_type": "code",
   "execution_count": null,
   "metadata": {
    "tags": []
   },
   "outputs": [],
   "source": [
    "prompt = \"\"\"Когда родился Пушкин? Алекса́ндр Серге́евич Пу́шкин — русский поэт, драматург и прозаик, заложивший основы русского реалистического направления, литературный критик и теоретик литературы, историк, публицист, журналист. Один из самых авторитетных литературных деятелей первой трети XIX века. Википедия\n",
    "Дата и место рождения: 6 июня 1799 г., Москва, Россия\"\"\"\n",
    "output = evaluate(prompt)\n",
    "print(output)"
   ]
  },
  {
   "cell_type": "code",
   "execution_count": null,
   "metadata": {
    "tags": []
   },
   "outputs": [],
   "source": [
    "prompt = \"\"\"Извлеки самые важные слова из этого текста: VK Cloud — вендор платформы облачных сервисов и технологический партнёр, который помогает компаниям строить и \n",
    "модернизировать ИТ-инфраструктуру для большей надёжности, ускорения разработки и оптимизации расходов. \n",
    "Безопасная и масштабируемая платформа облачных сервисов от VK позволяет строить надежные ИТ-системы для \n",
    "обслуживания бизнеса, разработки и предоставления сервисов.\n",
    "Входящие в VK Cloud решения — виртуальные сервера, объектное хранилище, управляемые базы данных, \n",
    "кластеры Kubernetes и многое другое— позволяют запускать приложения и сервисы, работать с большими объемами данных и \n",
    "решать другие задачи крупного, среднего и малого бизнеса.\"\"\"\n",
    "\n",
    "output = evaluate(prompt)\n",
    "print(output)"
   ]
  },
  {
   "cell_type": "code",
   "execution_count": null,
   "metadata": {
    "tags": []
   },
   "outputs": [],
   "source": [
    "prompt = \"\"\"Изложи кратко этот текст: VK Cloud — вендор платформы облачных сервисов и технологический партнёр, который помогает компаниям строить и \n",
    "модернизировать ИТ-инфраструктуру для большей надёжности, ускорения разработки и оптимизации расходов. \n",
    "Безопасная и масштабируемая платформа облачных сервисов от VK позволяет строить надежные ИТ-системы для \n",
    "обслуживания бизнеса, разработки и предоставления сервисов.\n",
    "Входящие в VK Cloud решения — виртуальные сервера, объектное хранилище, управляемые базы данных, \n",
    "кластеры Kubernetes и многое другое— позволяют запускать приложения и сервисы, работать с большими объемами данных и \n",
    "решать другие задачи крупного, среднего и малого бизнеса.\"\"\"\n",
    "\n",
    "output = evaluate(prompt)\n",
    "print(output)"
   ]
  },
  {
   "cell_type": "code",
   "execution_count": null,
   "metadata": {
    "tags": []
   },
   "outputs": [],
   "source": [
    "prompt = \"\"\"Где родился Пушкин? Алекса́ндр Серге́евич Пу́шкин — русский поэт, драматург и прозаик, заложивший основы русского реалистического направления, литературный критик и теоретик литературы, историк, публицист, журналист. Один из самых авторитетных литературных деятелей первой трети XIX века. Википедия\n",
    "Дата и место рождения: 6 июня 1799 г., Москва, Россия\"\"\"\n",
    "output = evaluate(prompt)\n",
    "print(output)"
   ]
  },
  {
   "cell_type": "code",
   "execution_count": null,
   "metadata": {
    "tags": []
   },
   "outputs": [],
   "source": [
    "prompt = \"\"\"Вопрос: Изложи кратко этот текст: Хотя у каждого пода есть уникальный IP-адрес, эти IP-адреса не доступны за пределами кластера без использования сервиса. Сервисы позволяют приложениям принимать трафик. Сервисы могут быть по-разному открыты, в зависимости от указанного поля type в ServiceSpec:\n",
    "ClusterIP (по умолчанию) - открывает доступ к сервису по внутреннему IP-адресу в кластере. Этот тип делает сервис доступным только внутри кластера.\n",
    "NodePort - открывает сервис на одном и том же порту каждого выбранного узла в кластере с помощью NAT. Делает сервис доступным вне кластера, используя <NodeIP>:<NodePort>. Является надмножеством ClusterIP.\n",
    "LoadBalancer - создает внешний балансировщик нагрузки в текущем облаке (если это поддерживается) и назначает фиксированный внешний IP-адрес для сервиса. Является надмножеством NodePort.\n",
    "ExternalName - открывает доступ к сервису с указанным именем (определённое в поле externalName в спецификации) и возвращает запись CNAME. Прокси не используется. Для этого типа требуется версия kube-dns 1.7 или выше.\"\"\"\n",
    "\n",
    "output = evaluate(prompt)\n",
    "print(output)"
   ]
  },
  {
   "cell_type": "code",
   "execution_count": null,
   "metadata": {
    "tags": []
   },
   "outputs": [],
   "source": [
    "#Пример ответа на русском с учетом контекста на английском языке\n",
    "prompt = \"\"\"Вопрос: Объясни мне что такое сервис? Ответь на этот вопрос, используя данный текст: \n",
    "A Kubernetes Service is an abstraction which defines a logical set of Pods running somewhere in your cluster, that all provide the same functionality. When created, each Service is assigned a unique IP address (also called clusterIP). This address is tied to the lifespan of the Service, and will not change while the Service is alive. Pods can be configured to talk to the Service, and know that communication to the Service will be automatically load-balanced out to some pod that is a member of the Service.\"\"\"\n",
    "\n",
    "output = evaluate(prompt)\n",
    "print(output)"
   ]
  }
 ],
 "metadata": {
  "accelerator": "GPU",
  "colab": {
   "provenance": []
  },
  "gpuClass": "premium",
  "kernelspec": {
   "display_name": "Python 3.9 (tf+gpu)",
   "language": "python",
   "name": "python_gpu"
  },
  "language_info": {
   "codemirror_mode": {
    "name": "ipython",
    "version": 3
   },
   "file_extension": ".py",
   "mimetype": "text/x-python",
   "name": "python",
   "nbconvert_exporter": "python",
   "pygments_lexer": "ipython3",
   "version": "3.9.16"
  },
  "widgets": {
   "application/vnd.jupyter.widget-state+json": {
    "25b3689c72f6439e8d9c9745dd545f07": {
     "model_module": "@jupyter-widgets/controls",
     "model_module_version": "1.5.0",
     "model_name": "ProgressStyleModel",
     "state": {
      "_model_module": "@jupyter-widgets/controls",
      "_model_module_version": "1.5.0",
      "_model_name": "ProgressStyleModel",
      "_view_count": null,
      "_view_module": "@jupyter-widgets/base",
      "_view_module_version": "1.2.0",
      "_view_name": "StyleView",
      "bar_color": null,
      "description_width": ""
     }
    },
    "412b5873315d4d6c89d14b97a0899dad": {
     "model_module": "@jupyter-widgets/base",
     "model_module_version": "1.2.0",
     "model_name": "LayoutModel",
     "state": {
      "_model_module": "@jupyter-widgets/base",
      "_model_module_version": "1.2.0",
      "_model_name": "LayoutModel",
      "_view_count": null,
      "_view_module": "@jupyter-widgets/base",
      "_view_module_version": "1.2.0",
      "_view_name": "LayoutView",
      "align_content": null,
      "align_items": null,
      "align_self": null,
      "border": null,
      "bottom": null,
      "display": null,
      "flex": null,
      "flex_flow": null,
      "grid_area": null,
      "grid_auto_columns": null,
      "grid_auto_flow": null,
      "grid_auto_rows": null,
      "grid_column": null,
      "grid_gap": null,
      "grid_row": null,
      "grid_template_areas": null,
      "grid_template_columns": null,
      "grid_template_rows": null,
      "height": null,
      "justify_content": null,
      "justify_items": null,
      "left": null,
      "margin": null,
      "max_height": null,
      "max_width": null,
      "min_height": null,
      "min_width": null,
      "object_fit": null,
      "object_position": null,
      "order": null,
      "overflow": null,
      "overflow_x": null,
      "overflow_y": null,
      "padding": null,
      "right": null,
      "top": null,
      "visibility": null,
      "width": null
     }
    },
    "49bf17edccab40a5877506dd77a994cf": {
     "model_module": "@jupyter-widgets/controls",
     "model_module_version": "1.5.0",
     "model_name": "FloatProgressModel",
     "state": {
      "_dom_classes": [],
      "_model_module": "@jupyter-widgets/controls",
      "_model_module_version": "1.5.0",
      "_model_name": "FloatProgressModel",
      "_view_count": null,
      "_view_module": "@jupyter-widgets/controls",
      "_view_module_version": "1.5.0",
      "_view_name": "ProgressView",
      "bar_style": "success",
      "description": "",
      "description_tooltip": null,
      "layout": "IPY_MODEL_afd8b22b448248d9abebb0c4bc16c347",
      "max": 5,
      "min": 0,
      "orientation": "horizontal",
      "style": "IPY_MODEL_25b3689c72f6439e8d9c9745dd545f07",
      "value": 5
     }
    },
    "61f09e28ffe147acbf3a5f0621f2e78e": {
     "model_module": "@jupyter-widgets/base",
     "model_module_version": "1.2.0",
     "model_name": "LayoutModel",
     "state": {
      "_model_module": "@jupyter-widgets/base",
      "_model_module_version": "1.2.0",
      "_model_name": "LayoutModel",
      "_view_count": null,
      "_view_module": "@jupyter-widgets/base",
      "_view_module_version": "1.2.0",
      "_view_name": "LayoutView",
      "align_content": null,
      "align_items": null,
      "align_self": null,
      "border": null,
      "bottom": null,
      "display": null,
      "flex": null,
      "flex_flow": null,
      "grid_area": null,
      "grid_auto_columns": null,
      "grid_auto_flow": null,
      "grid_auto_rows": null,
      "grid_column": null,
      "grid_gap": null,
      "grid_row": null,
      "grid_template_areas": null,
      "grid_template_columns": null,
      "grid_template_rows": null,
      "height": null,
      "justify_content": null,
      "justify_items": null,
      "left": null,
      "margin": null,
      "max_height": null,
      "max_width": null,
      "min_height": null,
      "min_width": null,
      "object_fit": null,
      "object_position": null,
      "order": null,
      "overflow": null,
      "overflow_x": null,
      "overflow_y": null,
      "padding": null,
      "right": null,
      "top": null,
      "visibility": null,
      "width": null
     }
    },
    "7372b13c2c164bf18b7979ae90523e32": {
     "model_module": "@jupyter-widgets/controls",
     "model_module_version": "1.5.0",
     "model_name": "HTMLModel",
     "state": {
      "_dom_classes": [],
      "_model_module": "@jupyter-widgets/controls",
      "_model_module_version": "1.5.0",
      "_model_name": "HTMLModel",
      "_view_count": null,
      "_view_module": "@jupyter-widgets/controls",
      "_view_module_version": "1.5.0",
      "_view_name": "HTMLView",
      "description": "",
      "description_tooltip": null,
      "layout": "IPY_MODEL_738072c988df400180473448d673d445",
      "placeholder": "​",
      "style": "IPY_MODEL_ecd7ec3f587d4360847e537665c42e0e",
      "value": "Loading checkpoint shards: 100%"
     }
    },
    "738072c988df400180473448d673d445": {
     "model_module": "@jupyter-widgets/base",
     "model_module_version": "1.2.0",
     "model_name": "LayoutModel",
     "state": {
      "_model_module": "@jupyter-widgets/base",
      "_model_module_version": "1.2.0",
      "_model_name": "LayoutModel",
      "_view_count": null,
      "_view_module": "@jupyter-widgets/base",
      "_view_module_version": "1.2.0",
      "_view_name": "LayoutView",
      "align_content": null,
      "align_items": null,
      "align_self": null,
      "border": null,
      "bottom": null,
      "display": null,
      "flex": null,
      "flex_flow": null,
      "grid_area": null,
      "grid_auto_columns": null,
      "grid_auto_flow": null,
      "grid_auto_rows": null,
      "grid_column": null,
      "grid_gap": null,
      "grid_row": null,
      "grid_template_areas": null,
      "grid_template_columns": null,
      "grid_template_rows": null,
      "height": null,
      "justify_content": null,
      "justify_items": null,
      "left": null,
      "margin": null,
      "max_height": null,
      "max_width": null,
      "min_height": null,
      "min_width": null,
      "object_fit": null,
      "object_position": null,
      "order": null,
      "overflow": null,
      "overflow_x": null,
      "overflow_y": null,
      "padding": null,
      "right": null,
      "top": null,
      "visibility": null,
      "width": null
     }
    },
    "79031fe71f2e46be941eab0eff7008ee": {
     "model_module": "@jupyter-widgets/controls",
     "model_module_version": "1.5.0",
     "model_name": "HBoxModel",
     "state": {
      "_dom_classes": [],
      "_model_module": "@jupyter-widgets/controls",
      "_model_module_version": "1.5.0",
      "_model_name": "HBoxModel",
      "_view_count": null,
      "_view_module": "@jupyter-widgets/controls",
      "_view_module_version": "1.5.0",
      "_view_name": "HBoxView",
      "box_style": "",
      "children": [
       "IPY_MODEL_7372b13c2c164bf18b7979ae90523e32",
       "IPY_MODEL_49bf17edccab40a5877506dd77a994cf",
       "IPY_MODEL_bd58de278e5049a2b22ba5e7b37317e0"
      ],
      "layout": "IPY_MODEL_412b5873315d4d6c89d14b97a0899dad"
     }
    },
    "96ba64d30d8a40afb389e1f2aafee7d9": {
     "model_module": "@jupyter-widgets/controls",
     "model_module_version": "1.5.0",
     "model_name": "DescriptionStyleModel",
     "state": {
      "_model_module": "@jupyter-widgets/controls",
      "_model_module_version": "1.5.0",
      "_model_name": "DescriptionStyleModel",
      "_view_count": null,
      "_view_module": "@jupyter-widgets/base",
      "_view_module_version": "1.2.0",
      "_view_name": "StyleView",
      "description_width": ""
     }
    },
    "afd8b22b448248d9abebb0c4bc16c347": {
     "model_module": "@jupyter-widgets/base",
     "model_module_version": "1.2.0",
     "model_name": "LayoutModel",
     "state": {
      "_model_module": "@jupyter-widgets/base",
      "_model_module_version": "1.2.0",
      "_model_name": "LayoutModel",
      "_view_count": null,
      "_view_module": "@jupyter-widgets/base",
      "_view_module_version": "1.2.0",
      "_view_name": "LayoutView",
      "align_content": null,
      "align_items": null,
      "align_self": null,
      "border": null,
      "bottom": null,
      "display": null,
      "flex": null,
      "flex_flow": null,
      "grid_area": null,
      "grid_auto_columns": null,
      "grid_auto_flow": null,
      "grid_auto_rows": null,
      "grid_column": null,
      "grid_gap": null,
      "grid_row": null,
      "grid_template_areas": null,
      "grid_template_columns": null,
      "grid_template_rows": null,
      "height": null,
      "justify_content": null,
      "justify_items": null,
      "left": null,
      "margin": null,
      "max_height": null,
      "max_width": null,
      "min_height": null,
      "min_width": null,
      "object_fit": null,
      "object_position": null,
      "order": null,
      "overflow": null,
      "overflow_x": null,
      "overflow_y": null,
      "padding": null,
      "right": null,
      "top": null,
      "visibility": null,
      "width": null
     }
    },
    "bd58de278e5049a2b22ba5e7b37317e0": {
     "model_module": "@jupyter-widgets/controls",
     "model_module_version": "1.5.0",
     "model_name": "HTMLModel",
     "state": {
      "_dom_classes": [],
      "_model_module": "@jupyter-widgets/controls",
      "_model_module_version": "1.5.0",
      "_model_name": "HTMLModel",
      "_view_count": null,
      "_view_module": "@jupyter-widgets/controls",
      "_view_module_version": "1.5.0",
      "_view_name": "HTMLView",
      "description": "",
      "description_tooltip": null,
      "layout": "IPY_MODEL_61f09e28ffe147acbf3a5f0621f2e78e",
      "placeholder": "​",
      "style": "IPY_MODEL_96ba64d30d8a40afb389e1f2aafee7d9",
      "value": " 5/5 [09:39&lt;00:00, 111.42s/it]"
     }
    },
    "ecd7ec3f587d4360847e537665c42e0e": {
     "model_module": "@jupyter-widgets/controls",
     "model_module_version": "1.5.0",
     "model_name": "DescriptionStyleModel",
     "state": {
      "_model_module": "@jupyter-widgets/controls",
      "_model_module_version": "1.5.0",
      "_model_name": "DescriptionStyleModel",
      "_view_count": null,
      "_view_module": "@jupyter-widgets/base",
      "_view_module_version": "1.2.0",
      "_view_name": "StyleView",
      "description_width": ""
     }
    }
   }
  }
 },
 "nbformat": 4,
 "nbformat_minor": 4
}
